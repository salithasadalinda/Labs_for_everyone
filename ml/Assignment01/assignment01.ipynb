{
 "cells": [
  {
   "cell_type": "markdown",
   "id": "1eff9bb8",
   "metadata": {},
   "source": [
    "# ASSINGMENT 01 \n",
    "# 2019/E/72"
   ]
  },
  {
   "cell_type": "markdown",
   "id": "466ab98c",
   "metadata": {},
   "source": [
    "1)Generate a 2x10 matrix of random numbers between 1 and 10."
   ]
  },
  {
   "cell_type": "code",
   "execution_count": 3,
   "id": "7f990ab8",
   "metadata": {},
   "outputs": [
    {
     "name": "stdout",
     "output_type": "stream",
     "text": [
      "the random matrix:\n",
      " [[ 8  6  7  2 10  2  1  6  2  6]\n",
      " [ 2  9  2  2  9  1  4  6  3  9]]\n"
     ]
    }
   ],
   "source": [
    "import numpy as np\n",
    "# to genarate random matrix1\n",
    "matrix1 = np.random.randint(low=1, high=11, size=(2, 10))\n",
    "\n",
    "print(\"the random matrix1:\\n\",matrix1)"
   ]
  },
  {
   "cell_type": "markdown",
   "id": "5f42d8d6",
   "metadata": {},
   "source": [
    "2)Consider the first column as the test data and the second column as the predicted data from a model and Calculate the root mean squared error between test and predicted data."
   ]
  },
  {
   "cell_type": "code",
   "execution_count": 62,
   "id": "82a4c349",
   "metadata": {},
   "outputs": [],
   "source": [
    "# for split data\n",
    "test_data1 = matrix[0]\n",
    "predicted_data1 = matrix[1]"
   ]
  },
  {
   "cell_type": "code",
   "execution_count": 63,
   "id": "85612be3",
   "metadata": {},
   "outputs": [
    {
     "name": "stdout",
     "output_type": "stream",
     "text": [
      "Root Mean Squared Error : 3.0166206257996713\n"
     ]
    }
   ],
   "source": [
    "# Root Mean Squared Error using built in libraries\n",
    "rms = np.sqrt(np.mean((predicted_data1 - test_data1)**2))\n",
    "print(\"Root Mean Squared Error :\", rms)"
   ]
  },
  {
   "cell_type": "markdown",
   "id": "289230ce",
   "metadata": {},
   "source": [
    "Create another binary matrix of 2x10 and split it as above. Answer the following questions using this array:\n",
    "- 1)Find the accuracy, precision, recall and F1-score of the model.\n",
    "- 2)Print the classification report.\n",
    "- 3)Plot the cmbetween test and predicted data.\n",
    "- 4)Draw the ROC curve for this model"
   ]
  },
  {
   "cell_type": "code",
   "execution_count": 9,
   "id": "5dd0a422",
   "metadata": {},
   "outputs": [
    {
     "name": "stdout",
     "output_type": "stream",
     "text": [
      "[[0 1 1 1 0 0 1 0 1 1]\n",
      " [0 1 1 0 1 1 1 1 0 0]]\n"
     ]
    }
   ],
   "source": [
    "#second matrix\n",
    "matrix2=np.random.randint(low=0, high=2, size=(2, 10))\n",
    "\n",
    "\n",
    "print(matrix2)"
   ]
  },
  {
   "cell_type": "code",
   "execution_count": 10,
   "id": "00c834a7",
   "metadata": {},
   "outputs": [],
   "source": [
    "\n",
    "# for split data \n",
    "test_data2 = matrix2[0]\n",
    "predicted_data2 = matrix2[1]\n",
    "\n",
    "FP = sum((test_data2 == 0) & (predicted_data2 == 1))\n",
    "FN = sum((test_data2 == 1) & (predicted_data2 == 0))\n",
    "TP = sum((test_data2 == 1) & (predicted_data2 == 1))\n",
    "TN = sum((test_data2 == 0) & (predicted_data2 == 0))"
   ]
  },
  {
   "cell_type": "markdown",
   "id": "0e921514",
   "metadata": {},
   "source": [
    "1)accuracy, precision, recall and F1-score of the model."
   ]
  },
  {
   "cell_type": "code",
   "execution_count": 14,
   "id": "854d44e3",
   "metadata": {},
   "outputs": [
    {
     "name": "stdout",
     "output_type": "stream",
     "text": [
      "Precision: 0.5\n",
      "Recall: 0.5\n",
      "Accuracy: 0.4\n",
      "F1-score: 0.5\n"
     ]
    }
   ],
   "source": [
    "accuracy = (TP + TN) / (TP + FP + TN + FN)\n",
    "precision = TP / (TP + FP)\n",
    "recall = TP / (TP + FN)\n",
    "f1_score = 2 * precision * recall / (precision + recall)\n",
    "print(\"Precision:\", precision)\n",
    "print(\"Recall:\", recall)\n",
    "print(\"Accuracy:\", accuracy)\n",
    "print(\"F1-score:\", f1_score)"
   ]
  },
  {
   "cell_type": "code",
   "execution_count": 15,
   "id": "74f67927",
   "metadata": {},
   "outputs": [],
   "source": [
    "# necessary libraries\n",
    "\n",
    "import numpy as np\n",
    "import matplotlib.pyplot as plt\n",
    "from sklearn.metrics import confusion_matrix, classification_report, roc_curve, auc\n"
   ]
  },
  {
   "cell_type": "markdown",
   "id": "fd0e482e",
   "metadata": {},
   "source": [
    " 2)classification report."
   ]
  },
  {
   "cell_type": "code",
   "execution_count": 16,
   "id": "cc74a400",
   "metadata": {},
   "outputs": [
    {
     "name": "stdout",
     "output_type": "stream",
     "text": [
      "              precision    recall  f1-score   support\n",
      "\n",
      "           0       0.25      0.25      0.25         4\n",
      "           1       0.50      0.50      0.50         6\n",
      "\n",
      "    accuracy                           0.40        10\n",
      "   macro avg       0.38      0.38      0.38        10\n",
      "weighted avg       0.40      0.40      0.40        10\n",
      "\n"
     ]
    }
   ],
   "source": [
    "# classification report\n",
    "print(classification_report(test_data2, predicted_data2))"
   ]
  },
  {
   "cell_type": "markdown",
   "id": "9bae88dc",
   "metadata": {},
   "source": [
    "3)Plot the cmbetween test and predicted data."
   ]
  },
  {
   "cell_type": "code",
   "execution_count": 43,
   "id": "03ba2c8c",
   "metadata": {},
   "outputs": [
    {
     "data": {
      "image/png": "[encoded data removed]",
      "text/plain": [
       "<Figure size 640x480 with 2 Axes>"
      ]
     },
     "metadata": {},
     "output_type": "display_data"
    },
    {
     "name": "stdout",
     "output_type": "stream",
     "text": [
      "confusion matrix: [[1 3]\n",
      " [3 3]]\n"
     ]
    }
   ],
   "source": [
    "# Plot confusion matrix\n",
    "cm = confusion_matrix(test_data2, predicted_data2)\n",
    "plt.imshow(cm, cmap=plt.cm.Blues)\n",
    "plt.xlabel(\"Predicted labels\")\n",
    "plt.ylabel(\"True labels\")\n",
    "plt.xticks([0, 1], [\"0\", \"1\"])\n",
    "plt.yticks([0, 1], [\"0\", \"1\"])\n",
    "plt.title(\"Confusion matrix\")\n",
    "plt.colorbar()\n",
    "plt.show()\n",
    "print(\"confusion matrix:\",cm)"
   ]
  },
  {
   "cell_type": "markdown",
   "id": "e2e9f3d8",
   "metadata": {},
   "source": [
    "4)ROC curve for this model"
   ]
  },
  {
   "cell_type": "code",
   "execution_count": 55,
   "id": "b9172607",
   "metadata": {},
   "outputs": [
    {
     "data": {
      "image/png": "[encoded data removed]",
      "text/plain": [
       "<Figure size 640x480 with 1 Axes>"
      ]
     },
     "metadata": {},
     "output_type": "display_data"
    }
   ],
   "source": [
    "# roc curve\n",
    "fpr, tpr, thresholds = roc_curve(test_data2, predicted_data2)\n",
    "roc_auc = auc(fpr, tpr)\n",
    "plt.plot(fpr, tpr, color='gray', lw=2, label='ROC curve (AUC = %0.2f)' % roc_auc)\n",
    "plt.plot([0, 1], [0, 1], color='blue', lw=2, linestyle='--')\n",
    "plt.xlabel('FALSE POSITIVE RATE')\n",
    "plt.ylabel('TRUE POSITIVE RATE')\n",
    "plt.title('ROC curve')\n",
    "plt.legend(loc=\"lower right\")\n",
    "plt.show()"
   ]
  },
  {
   "cell_type": "markdown",
   "id": "796354b0",
   "metadata": {},
   "source": [
    "4)Now consider the initial data. Divide it into two sets, train data (80% of the whole data) and test data (20% of the whole data)."
   ]
  },
  {
   "cell_type": "code",
   "execution_count": 65,
   "id": "8e54f864",
   "metadata": {},
   "outputs": [
    {
     "name": "stdout",
     "output_type": "stream",
     "text": [
      "Train shape: (2, 8)\n",
      "Test shape: (2, 2)\n"
     ]
    }
   ],
   "source": [
    "from sklearn.model_selection import train_test_split\n",
    "\n",
    "train_data3, test_data3 = train_test_split(matrix2.T, test_size=0.2)\n",
    "\n",
    "train_data3 = train_data3.T\n",
    "test_data3 = test_data3.T\n",
    "\n",
    "print(\"Train shape:\", train_data.shape)\n",
    "print(\"Test shape:\", test_data.shape)"
   ]
  }
 ],
 "metadata": {
  "kernelspec": {
   "display_name": "Python 3 (ipykernel)",
   "language": "python",
   "name": "python3"
  },
  "language_info": {
   "codemirror_mode": {
    "name": "ipython",
    "version": 3
   },
   "file_extension": ".py",
   "mimetype": "text/x-python",
   "name": "python",
   "nbconvert_exporter": "python",
   "pygments_lexer": "ipython3",
   "version": "3.9.13"
  }
 },
 "nbformat": 4,
 "nbformat_minor": 5
}
